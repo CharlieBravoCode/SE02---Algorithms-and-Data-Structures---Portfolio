{
 "cells": [
  {
   "cell_type": "markdown",
   "id": "74b22bf8",
   "metadata": {},
   "source": [
    "# Algorithms and Data Structures Notebook"
   ]
  },
  {
   "cell_type": "markdown",
   "id": "b2ce721a",
   "metadata": {},
   "source": [
    "Christoph Brauer"
   ]
  },
  {
   "cell_type": "markdown",
   "id": "0b477fa9",
   "metadata": {},
   "source": [
    "SE 02"
   ]
  },
  {
   "cell_type": "markdown",
   "id": "03889ba4",
   "metadata": {},
   "source": [
    "Spring Semester 2023"
   ]
  },
  {
   "cell_type": "markdown",
   "id": "c5bca813",
   "metadata": {},
   "source": [
    "## Table of Contents"
   ]
  },
  {
   "cell_type": "markdown",
   "id": "f86333f2-0e93-4195-8df2-3d3e7c713782",
   "metadata": {},
   "source": [
    "- [1. Algorithm Time Complexity and Asymptotic Notations](#AlgorithmTimeComplexityandAsymptoticNotations)\n",
    "   - 1.1. Counting Steps and RAM Model Assumptions\n",
    "      - 1.1.1. Time Complexity\n",
    "      - 1.1.2. Space Complexity\n",
    "   - 1.2. Asymptotic Notations\n",
    "      - 1.2.1. Big O\n",
    "      - 1.2.2. Big Ω\n",
    "      - 1.2.3. Big Θ\n",
    "   - 1.3. Mathematical Functions\n",
    "      - 1.3.1. Common Functions in Algorithm Analysis\n",
    "      - 1.3.2. Growth Rates\n",
    "   - 1.4. Analyzing Loops\n",
    "      - 1.4.1. Nested Loops\n",
    "      - 1.4.2. Recursive Loops\n",
    "   - 1.5. Time Complexity of Searching and Sorting Algorithms\n",
    "      - 1.5.1. Linear Search\n",
    "      - 1.5.2. Binary Search\n",
    "      - 1.5.3. Bubble Sort\n",
    "      - 1.5.4. QuickSort\n",
    "\n",
    "- 2. Mathematical Arguing and Reasoning\n",
    "   - 2.1. Revision of Algorithm Analysis\n",
    "      - 2.1.1. Time Complexity Examples\n",
    "      - 2.1.2. Space Complexity Examples\n",
    "   - 2.2. Mathematical Arguing and Reasoning\n",
    "      - 2.2.1. Proof Techniques\n",
    "      - 2.2.2. Inductive Proofs\n",
    "   - 2.3. Logarithms Review\n",
    "      - 2.3.1. Khan Academy Material\n",
    "      - 2.3.2. Brilliant Material\n",
    "\n",
    "- 3. Computational Machine Architectures\n",
    "   - 3.1. Von Neumann Architecture\n",
    "      - 3.1.1. Components and Functions\n",
    "      - 3.1.2. Memory Hierarchy\n",
    "   - 3.2. CPU Architecture\n",
    "      - 3.2.1. Pipelining\n",
    "      - 3.2.2. Cache Memory\n",
    "   - 3.3. CISC vs RISC Architectures\n",
    "      - 3.3.1. Advantages and Disadvantages\n",
    "      - 3.3.2. Evolution and Current Trends\n",
    "   - 3.4. GPU: Graphical Process Unit\n",
    "      - 3.4.1. GPU Architecture\n",
    "      - 3.4.2. Applications in Computing\n",
    "   - 3.5. Building Parallel Algorithms\n",
    "      - 3.5.1. Parallelism Techniques\n",
    "      - 3.5.2. Multithreading and Concurrency\n",
    "\n",
    "- 4. Graph Data Structure and Search Algorithms\n",
    "   - 4.1. Graph Data Structure Overview\n",
    "      - 4.1.1. Terminology and Representation\n",
    "      - 4.1.2. Types of Graphs\n",
    "   - 4.2. Graph Applications in Real Life\n",
    "      - 4.2.1. Social Networks\n",
    "      - 4.2.2. Navigation Systems\n",
    "   - 4.3. Search Algorithms on Graph Data Structure\n",
    "      - 4.3.1. Breadth-first Search (BFS)\n",
    "      - 4.3.2. Depth-first Search (DFS)\n",
    "      - 4.3.3. Dijkstra's Algorithm\n",
    "      - 4.3.4. A* Algorithm\n"
   ]
  },
  {
   "cell_type": "markdown",
   "id": "98a5c7fd-6e9a-47ca-aa86-7fc16614c5ca",
   "metadata": {},
   "source": [
    "# Algorithm Time Complexity and Asymptotic Notations <a name=\"AlgorithmTimeComplexityandAsymptoticNotations\"></a>\n",
    "\n",
    "This is a paragraph explaining a concept.\n"
   ]
  },
  {
   "cell_type": "markdown",
   "id": "a58d584a-4499-4136-ab3f-1fffc8b7c049",
   "metadata": {},
   "source": [
    "### Subhead 1 <a name=\"subhead-1\"></a>\n",
    "\n",
    "This is the first subheadline."
   ]
  },
  {
   "cell_type": "markdown",
   "id": "8a863f2f-b948-4000-afcb-9083ca69d6c5",
   "metadata": {},
   "source": [
    "### Subhead 2 <a name=\"subhead-2\"></a>\n",
    "\n",
    "This is the second subheadline."
   ]
  },
  {
   "cell_type": "markdown",
   "id": "33274c10-85d7-4240-adaa-463a1a2c5958",
   "metadata": {},
   "source": [
    "## Another Main Headline <a name=\"another-main-headline\"></a>\n",
    "\n",
    "Here's another main headline."
   ]
  },
  {
   "cell_type": "markdown",
   "id": "cd03f2da-08ef-458c-98b1-0dff24ed1f34",
   "metadata": {},
   "source": [
    "### Another Subhead 1 <a name=\"another-subhead-1\"></a>\n",
    "\n",
    "This is another subheadline."
   ]
  }
 ],
 "metadata": {
  "kernelspec": {
   "display_name": "Python 3 (ipykernel)",
   "language": "python",
   "name": "python3"
  },
  "language_info": {
   "codemirror_mode": {
    "name": "ipython",
    "version": 3
   },
   "file_extension": ".py",
   "mimetype": "text/x-python",
   "name": "python",
   "nbconvert_exporter": "python",
   "pygments_lexer": "ipython3",
   "version": "3.10.7"
  },
  "toc-autonumbering": false,
  "toc-showmarkdowntxt": true
 },
 "nbformat": 4,
 "nbformat_minor": 5
}
