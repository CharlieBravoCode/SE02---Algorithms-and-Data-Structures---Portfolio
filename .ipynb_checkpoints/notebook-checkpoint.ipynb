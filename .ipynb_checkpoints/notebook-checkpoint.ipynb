{
 "cells": [
  {
   "cell_type": "markdown",
   "id": "74b22bf8",
   "metadata": {},
   "source": [
    "# Algorithms and Data Structures Notebook"
   ]
  },
  {
   "cell_type": "markdown",
   "id": "b2ce721a",
   "metadata": {},
   "source": [
    "Christoph Brauer"
   ]
  },
  {
   "cell_type": "markdown",
   "id": "0b477fa9",
   "metadata": {},
   "source": [
    "SE 02"
   ]
  },
  {
   "cell_type": "markdown",
   "id": "03889ba4",
   "metadata": {},
   "source": [
    "Spring Semester 2023"
   ]
  },
  {
   "cell_type": "markdown",
   "id": "c5bca813",
   "metadata": {},
   "source": [
    "## Table of Contents"
   ]
  },
  {
   "cell_type": "markdown",
   "id": "f86333f2-0e93-4195-8df2-3d3e7c713782",
   "metadata": {},
   "source": [
    "# Table of Contents\n",
    "\n",
    "1. [Main Headline](#main-headline)\n",
    "   1.1. [Subhead 1](#subhead-1)\n",
    "   1.2. [Subhead 2](#subhead-2)\n",
    "2. [Another Main Headline](#another-main-headline)\n",
    "   2.1. [Another Subhead 1](#another-subhead-1)\n",
    "\n",
    "## Main Headline <a name=\"main-headline\"></a>\n",
    "\n",
    "This is a paragraph explaining a concept.\n",
    "\n",
    "### Subhead 1 <a name=\"subhead-1\"></a>\n",
    "\n",
    "This is the first subheadline.\n",
    "\n",
    "### Subhead 2 <a name=\"subhead-2\"></a>\n",
    "\n",
    "This is the second subheadline.\n",
    "\n",
    "## Another Main Headline <a name=\"another-main-headline\"></a>\n",
    "\n",
    "Here's another main headline.\n",
    "\n",
    "### Another Subhead 1 <a name=\"another-subhead-1\"></a>\n",
    "\n",
    "This is another subheadline.\n"
   ]
  }
 ],
 "metadata": {
  "kernelspec": {
   "display_name": "Python 3 (ipykernel)",
   "language": "python",
   "name": "python3"
  },
  "language_info": {
   "codemirror_mode": {
    "name": "ipython",
    "version": 3
   },
   "file_extension": ".py",
   "mimetype": "text/x-python",
   "name": "python",
   "nbconvert_exporter": "python",
   "pygments_lexer": "ipython3",
   "version": "3.10.7"
  },
  "toc-autonumbering": false,
  "toc-showmarkdowntxt": true
 },
 "nbformat": 4,
 "nbformat_minor": 5
}
