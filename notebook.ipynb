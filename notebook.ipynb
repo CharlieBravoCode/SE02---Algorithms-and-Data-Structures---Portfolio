{
 "cells": [
  {
   "cell_type": "markdown",
   "id": "74b22bf8",
   "metadata": {},
   "source": [
    "# Algorithms and Data Structures Notebook"
   ]
  },
  {
   "cell_type": "markdown",
   "id": "b2ce721a",
   "metadata": {},
   "source": [
    "Christoph Brauer"
   ]
  },
  {
   "cell_type": "markdown",
   "id": "0b477fa9",
   "metadata": {},
   "source": [
    "SE 02"
   ]
  },
  {
   "cell_type": "markdown",
   "id": "03889ba4",
   "metadata": {},
   "source": [
    "Spring Semester 2023"
   ]
  },
  {
   "cell_type": "markdown",
   "id": "c5bca813",
   "metadata": {},
   "source": [
    "## Table of Contents"
   ]
  },
  {
   "attachments": {},
   "cell_type": "markdown",
   "id": "f86333f2-0e93-4195-8df2-3d3e7c713782",
   "metadata": {},
   "source": [
    "- [1. Algorithm Time Complexity and Asymptotic Notations](#AlgorithmTimeComplexityandAsymptoticNotations)\n",
    "   - [1.1. Counting Steps and RAM Model Assumptions](#CountingStepsandRAMModelAssumptions)\n",
    "      - [1.1.1. Time Complexity](#TimeComplexity)\n",
    "      - [1.1.2. Space Complexity](#SpaceComplexity)\n",
    "   - [1.2. Asymptotic Notations](#AsymptoticNotations)\n",
    "      - [1.2.1. Big O](#BigO)\n",
    "      - [1.2.2. Big Ω](#BigΩ)\n",
    "      - [1.2.3. Big Θ](#BigΘ)\n",
    "   - [1.3. Mathematical Functions](#MathematicalFunctions)\n",
    "      - [1.3.1. Common Functions in Algorithm Analysis](#CommonFunctionsinAlgorithmAnalysis)\n",
    "      - [1.3.2. Growth Rates](#GrowthRates)\n",
    "   - [1.4. Analyzing Loops](#AnalyzingLoops)\n",
    "      - [1.4.1. Nested Loops](#NestedLoops)\n",
    "      - [1.4.2. Recursive Loops](#RecursiveLoops)\n",
    "   - [1.5. Time Complexity of Searching and Sorting Algorithms](#TimeComplexityofSearchingandSortingAlgorithms)\n",
    "      - [1.5.1. Linear Search](#LinearSearch)\n",
    "      - [1.5.2. Binary Search](#BinarySearch)\n",
    "      - [1.5.3. Bubble Sort](#BubbleSort)\n",
    "      - [1.5.4. QuickSort](#QuickSort)\n",
    "- [2. Mathematical Arguing and Reasoning](#MathematicalArguingandReasoning)\n",
    "   - [2.1. Revision of Algorithm Analysis](#RevisionofAlgorithmAnalysis)\n",
    "      - [2.1.1. Time Complexity Examples](#TimeComplexityExamples)\n",
    "      - [2.1.2. Space Complexity Examples](#SpaceComplexityExamples)\n",
    "   - [2.2. Mathematical Arguing and Reasoning](#MathematicalArguingandReasoning-1)\n",
    "      - [2.2.1. Proof Techniques](#ProofTechniques)\n",
    "      - [2.2.2. Inductive Proofs](#InductiveProofs)\n",
    "   - [2.3. Logarithms Review](#LogarithmsReview)\n",
    "      - [2.3.1. Khan Academy Material](#KhanAcademyMaterial)\n",
    "      - [2.3.2. Brilliant Material](#BrilliantMaterial)\n",
    "- [3. Computational Machine Architectures](#ComputationalMachineArchitectures)\n",
    "   - [3.1. Von Neumann Architecture](#VonNeumannArchitecture)\n",
    "      - [3.1.1. Components and Functions](#ComponentsandFunctions)\n",
    "      - [3.1.2. Memory Hierarchy](#MemoryHierarchy)\n",
    "   - [3.2. CPU Architecture](#CPUArchitecture)\n",
    "      - [3.2.1. Pipelining](#Pipelining)\n",
    "      - [3.2.2. Cache Memory](#CacheMemory)\n",
    "   - [3.3. CISC vs RISC Architectures](#CISCvsRISCArchitectures)\n",
    "      - [3.3.1. Advantages and Disadvantages](#AdvantagesandDisadvantages)\n",
    "      - [3.3.2. Evolution and Current Trends](#EvolutionandCurrentTrends)\n",
    "   - [3.4. GPU: Graphical Process Unit](#GPU)\n",
    "      - [3.4.1. GPU Architecture](#GPUArchitecture)\n",
    "      - [3.4.2. Applications in Computing](#ApplicationsinComputing)\n",
    "   - [3.5. Building Parallel Algorithms](#BuildingParallelAlgorithms)\n",
    "      - [3.5.1. Parallelism Techniques](#ParallelismTechniques)\n",
    "      - [3.5.2. Multithreading and Concurrency](#MultithreadingandConcurrency)\n",
    "- [4. Graph Data Structure and Search Algorithms](#GraphDataStructureandSearchAlgorithms)\n",
    "   - [4.1. Graph Data Structure Overview](#GraphDataStructureOverview)\n",
    "      - [4.1.1. Terminology and Representation](#TerminologyandRepresentation)\n",
    "      - [4.1.2. Types of Graphs](#TypesofGraphs)\n",
    "   - [4.2. Graph Applications in Real Life](#GraphApplicationsinRealLife)\n",
    "      - [4.2.1. Social Networks](#SocialNetworks)\n",
    "      - [4.2.2. Navigation Systems](#NavigationSystems)\n",
    "   - [4.3. Search Algorithms on Graph Data Structure](#SearchAlgorithmsonGraphDataStructure)\n",
    "      - [4.3.1. Breadth-first Search (BFS)](#BreadthfirstSearch)\n",
    "      - [4.3.2. Depth-first Search (DFS)](#DepthfirstSearch)\n",
    "      - [4.3.3. Dijkstra's Algorithm](#DijkstrasAlgorithm)\n",
    "      - [4.3.4. A* Algorithm](#AStarAlgorithm)\n",
    "\n",
    "- [5. Sources](#Sources)\n"
   ]
  },
  {
   "attachments": {},
   "cell_type": "markdown",
   "id": "98a5c7fd-6e9a-47ca-aa86-7fc16614c5ca",
   "metadata": {},
   "source": [
    "# Algorithm Time Complexity and Asymptotic Notations <a name=\"AlgorithmTimeComplexityandAsymptoticNotations\"></a>\n",
    "\n",
    "This is the paragrapah about algorithm time complexity and asymptotic notations.\n"
   ]
  },
  {
   "attachments": {},
   "cell_type": "markdown",
   "id": "a58d584a-4499-4136-ab3f-1fffc8b7c049",
   "metadata": {},
   "source": [
    "## 1.1. Counting Steps and RAM Model Assumptions <a name=\"CountingStepsandRAMModelAssumptions\"></a>\n",
    "This is the paragraph about counting steps and RAM model assumptions.\n"
   ]
  },
  {
   "attachments": {},
   "cell_type": "markdown",
   "id": "8a863f2f-b948-4000-afcb-9083ca69d6c5",
   "metadata": {},
   "source": [
    "### 1.1.1. Time Complexity <a name=\"TimeComplexity\"></a>\n",
    "This is the paragraph about time complexity."
   ]
  },
  {
   "attachments": {},
   "cell_type": "markdown",
   "id": "33274c10-85d7-4240-adaa-463a1a2c5958",
   "metadata": {},
   "source": [
    "### 1.1.2. Space Complexity <a name=\"SpaceComplexity\"></a>\n",
    "This is the paragraph about space complexity."
   ]
  },
  {
   "attachments": {},
   "cell_type": "markdown",
   "id": "cd03f2da-08ef-458c-98b1-0dff24ed1f34",
   "metadata": {},
   "source": [
    "## 1.2. Asymptotic Notations <a name=\"AsymptoticNotations\"></a>\n",
    "This is the paragraph about asymptotic notations."
   ]
  },
  {
   "attachments": {},
   "cell_type": "markdown",
   "id": "16328009",
   "metadata": {},
   "source": [
    "### 1.2.1. Big O <a name=\"BigO\"></a>\n",
    "This is the paragraph about Big O notation."
   ]
  },
  {
   "attachments": {},
   "cell_type": "markdown",
   "id": "a615a9a0",
   "metadata": {},
   "source": [
    "### 1.2.2. Big Ω <a name=\"BigΩ\"></a>\n",
    "This is the paragraph about Big Ω notation."
   ]
  },
  {
   "attachments": {},
   "cell_type": "markdown",
   "id": "53ce2644",
   "metadata": {},
   "source": [
    "### 1.2.3. Big Θ <a name=\"BigΘ\"></a>\n",
    "This is the paragraph about Big Θ notation."
   ]
  },
  {
   "attachments": {},
   "cell_type": "markdown",
   "id": "45174a80",
   "metadata": {},
   "source": [
    "## 1.3. Mathematical Functions <a name=\"MathematicalFunctions\"></a>\n",
    "This is the paragraph about mathematical functions."
   ]
  },
  {
   "attachments": {},
   "cell_type": "markdown",
   "id": "f6c76a31",
   "metadata": {},
   "source": [
    "### 1.3.1. Common Functions in Algorithm Analysis <a name=\"CommonFunctionsinAlgorithmAnalysis\"></a>\n",
    "This is the paragraph about common functions in algorithm analysis.\n"
   ]
  },
  {
   "attachments": {},
   "cell_type": "markdown",
   "id": "afd0b617",
   "metadata": {},
   "source": [
    "### 1.3.2. Growth Rates <a name=\"GrowthRates\"></a>\n",
    "This is the paragraph about growth rates."
   ]
  },
  {
   "attachments": {},
   "cell_type": "markdown",
   "id": "c5159540",
   "metadata": {},
   "source": [
    "## 1.4. Analyzing Loops <a name=\"AnalyzingLoops\"></a>\n",
    "This is the paragraph about analyzing loops."
   ]
  },
  {
   "attachments": {},
   "cell_type": "markdown",
   "id": "ddc74135",
   "metadata": {},
   "source": [
    "### 1.4.1. Nested Loops <a name=\"NestedLoops\"></a>\n",
    "This is the paragraph about nested loops."
   ]
  },
  {
   "attachments": {},
   "cell_type": "markdown",
   "id": "7f069083",
   "metadata": {},
   "source": [
    "### 1.4.2. Recursive Loops <a name=\"RecursiveLoops\"></a>\n",
    "This is the paragraph about recursive loops."
   ]
  },
  {
   "attachments": {},
   "cell_type": "markdown",
   "id": "4156f807",
   "metadata": {},
   "source": [
    "## 1.5. Time Complexity of Searching and Sorting Algorithms <a name=\"TimeComplexityofSearchingandSortingAlgorithms\"></a>\n",
    "This is the paragraph about time complexity of searching and sorting algorithms.\n"
   ]
  },
  {
   "attachments": {},
   "cell_type": "markdown",
   "id": "7ff25ac4",
   "metadata": {},
   "source": [
    "### 1.5.1. Linear Search <a name=\"LinearSearch\"></a>\n",
    "This is the paragraph about linear search."
   ]
  },
  {
   "attachments": {},
   "cell_type": "markdown",
   "id": "d73adc6a",
   "metadata": {},
   "source": [
    "### 1.5.2. Binary Search <a name=\"BinarySearch\"></a>\n",
    "This is the paragraph about binary search."
   ]
  },
  {
   "attachments": {},
   "cell_type": "markdown",
   "id": "9182697c",
   "metadata": {},
   "source": [
    "### 1.5.3. Bubble Sort <a name=\"BubbleSort\"></a>\n",
    "This is the paragraph about bubble sort."
   ]
  },
  {
   "attachments": {},
   "cell_type": "markdown",
   "id": "47b4818d",
   "metadata": {},
   "source": [
    "### 1.5.4. QuickSort <a name=\"QuickSort\"></a>\n",
    "This is the paragraph about QuickSort."
   ]
  },
  {
   "attachments": {},
   "cell_type": "markdown",
   "id": "e4c67f22",
   "metadata": {},
   "source": [
    "# 2. Mathematical Arguing and Reasoning <a name=\"MathematicalArguingandReasoning\"></a>\n",
    "This is the paragraph about mathematical arguing and reasoning."
   ]
  },
  {
   "attachments": {},
   "cell_type": "markdown",
   "id": "2b13fbbf",
   "metadata": {},
   "source": [
    "## 2.1. Revision of Algorithm Analysis <a name=\"RevisionofAlgorithmAnalysis\"></a>\n",
    "This is the paragraph about the revision of algorithm analysis."
   ]
  },
  {
   "attachments": {},
   "cell_type": "markdown",
   "id": "bef08f96",
   "metadata": {},
   "source": [
    "### 2.1.1. Time Complexity Examples <a name=\"TimeComplexityExamples\"></a>\n",
    "This is the paragraph about time complexity examples."
   ]
  },
  {
   "attachments": {},
   "cell_type": "markdown",
   "id": "c9bfcf29",
   "metadata": {},
   "source": [
    "### 2.1.2. Space Complexity Examples <a name=\"SpaceComplexityExamples\"></a>\n",
    "This is the paragraph about space complexity examples."
   ]
  },
  {
   "attachments": {},
   "cell_type": "markdown",
   "id": "41fd7c9d",
   "metadata": {},
   "source": [
    "## 2.2. Mathematical Arguing and Reasoning <a name=\"MathematicalArguingandReasoning-1\"></a>\n",
    "This is the paragraph about mathematical arguing and reasoning."
   ]
  },
  {
   "attachments": {},
   "cell_type": "markdown",
   "id": "b0bc2ae9",
   "metadata": {},
   "source": [
    "### 2.2.1. Proof Techniques <a name=\"ProofTechniques\"></a>\n",
    "This is the paragraph about proof techniques."
   ]
  },
  {
   "attachments": {},
   "cell_type": "markdown",
   "id": "18427c56",
   "metadata": {},
   "source": [
    "### 2.2.2. Inductive Proofs <a name=\"InductiveProofs\"></a>\n",
    "This is the paragraph about inductive proofs."
   ]
  },
  {
   "attachments": {},
   "cell_type": "markdown",
   "id": "3a52edaa",
   "metadata": {},
   "source": [
    "## 2.3. Logarithms Review <a name=\"LogarithmsReview\"></a>\n",
    "This is the paragraph about logarithms review."
   ]
  },
  {
   "attachments": {},
   "cell_type": "markdown",
   "id": "3e6a1d05",
   "metadata": {},
   "source": [
    "### 2.3.1. Khan Academy Material <a name=\"KhanAcademyMaterial\"></a>\n",
    "This is the paragraph about Khan Academy material."
   ]
  },
  {
   "attachments": {},
   "cell_type": "markdown",
   "id": "90b05b0a",
   "metadata": {},
   "source": [
    "### 2.3.2. Brilliant Material <a name=\"BrilliantMaterial\"></a>\n",
    "This is the paragraph about Brilliant material."
   ]
  },
  {
   "attachments": {},
   "cell_type": "markdown",
   "id": "33487969",
   "metadata": {},
   "source": [
    "# 3. Computational Machine Architectures <a name=\"ComputationalMachineArchitectures\"></a>\n",
    "This is the paragraph about computational machine architectures."
   ]
  },
  {
   "attachments": {},
   "cell_type": "markdown",
   "id": "5840cb76",
   "metadata": {},
   "source": [
    "## 3.1. Von Neumann Architecture <a name=\"VonNeumannArchitecture\"></a>\n",
    "This is the paragraph about Von Neumann architecture."
   ]
  },
  {
   "attachments": {},
   "cell_type": "markdown",
   "id": "497e7cfb",
   "metadata": {},
   "source": [
    "### 3.1.1. Components and Functions <a name=\"ComponentsandFunctions\"></a>\n",
    "This is the paragraph about components and functions.\n"
   ]
  },
  {
   "attachments": {},
   "cell_type": "markdown",
   "id": "9451d56a",
   "metadata": {},
   "source": [
    "### 3.1.2. Memory Hierarchy <a name=\"MemoryHierarchy\"></a>\n",
    "This is the paragraph about memory hierarchy."
   ]
  },
  {
   "attachments": {},
   "cell_type": "markdown",
   "id": "514ac80a",
   "metadata": {},
   "source": [
    "## 3.2. CPU Architecture <a name=\"CPUArchitecture\"></a>\n",
    "This is the paragraph about CPU architecture."
   ]
  },
  {
   "attachments": {},
   "cell_type": "markdown",
   "id": "62c6e913",
   "metadata": {},
   "source": [
    "### 3.2.1. Pipelining <a name=\"Pipelining\"></a>\n",
    "This is the paragraph about pipelining."
   ]
  },
  {
   "attachments": {},
   "cell_type": "markdown",
   "id": "72e99f75",
   "metadata": {},
   "source": [
    "### 3.2.2. Cache Memory <a name=\"CacheMemory\"></a>\n",
    "This is the paragraph about cache memory."
   ]
  },
  {
   "attachments": {},
   "cell_type": "markdown",
   "id": "520d7550",
   "metadata": {},
   "source": [
    "## 3.3. CISC vs RISC Architectures <a name=\"CISCvsRISCArchitectures\"></a>\n",
    "This is the paragraph about CISC vs RISC architectures."
   ]
  },
  {
   "attachments": {},
   "cell_type": "markdown",
   "id": "7dbad0c6",
   "metadata": {},
   "source": [
    "### 3.3.1. Advantages and Disadvantages <a name=\"AdvantagesandDisadvantages\"></a>\n",
    "This is the paragraph about advantages and disadvantages."
   ]
  },
  {
   "attachments": {},
   "cell_type": "markdown",
   "id": "680dd3b9",
   "metadata": {},
   "source": [
    "### 3.3.2. Evolution and Current Trends <a name=\"EvolutionandCurrentTrends\"></a>\n",
    "This is the paragraph about evolution and current trends."
   ]
  },
  {
   "attachments": {},
   "cell_type": "markdown",
   "id": "e78a13cb",
   "metadata": {},
   "source": [
    "## 3.4. GPU: Graphical Process Unit <a name=\"GPU\"></a>\n",
    "This is the paragraph about GPU: graphical process unit."
   ]
  },
  {
   "attachments": {},
   "cell_type": "markdown",
   "id": "55e0b83b",
   "metadata": {},
   "source": [
    "### 3.4.1. GPU Architecture <a name=\"GPUArchitecture\"></a>\n",
    "This is the paragraph about GPU architecture."
   ]
  },
  {
   "attachments": {},
   "cell_type": "markdown",
   "id": "9fa004dd",
   "metadata": {},
   "source": [
    "### 3.4.2. Applications in Computing <a name=\"ApplicationsinComputing\"></a>\n",
    "This is the paragraph about applications in computing."
   ]
  },
  {
   "attachments": {},
   "cell_type": "markdown",
   "id": "4de5d122",
   "metadata": {},
   "source": [
    "## 3.5. Building Parallel Algorithms <a name=\"BuildingParallelAlgorithms\"></a>\n",
    "This is the paragraph about building parallel algorithms."
   ]
  },
  {
   "attachments": {},
   "cell_type": "markdown",
   "id": "a7e0c9ea",
   "metadata": {},
   "source": [
    "### 3.5.1. Parallelism Techniques <a name=\"ParallelismTechniques\"></a>\n",
    "This is the paragraph about parallelism techniques."
   ]
  },
  {
   "attachments": {},
   "cell_type": "markdown",
   "id": "382996aa",
   "metadata": {},
   "source": [
    "### 3.5.2. Multithreading and Concurrency <a name=\"MultithreadingandConcurrency\"></a>\n",
    "This is the paragraph about multithreading and concurrency."
   ]
  },
  {
   "attachments": {},
   "cell_type": "markdown",
   "id": "b7df7617",
   "metadata": {},
   "source": [
    "# 4. Graph Data Structure and Search Algorithms <a name=\"GraphDataStructureandSearchAlgorithms\"></a>\n",
    "This is the paragraph about graph data structure and search algorithms.\n"
   ]
  },
  {
   "attachments": {},
   "cell_type": "markdown",
   "id": "78ba0c2b",
   "metadata": {},
   "source": [
    "## 4.1. Graph Data Structure Overview <a name=\"GraphDataStructureOverview\"></a>\n",
    "This is the paragraph about graph data structure overview."
   ]
  },
  {
   "attachments": {},
   "cell_type": "markdown",
   "id": "85b4db5e",
   "metadata": {},
   "source": [
    "### 4.1.1. Terminology and Representation <a name=\"TerminologyandRepresentation\"></a>\n",
    "This is the paragraph about terminology and representation."
   ]
  },
  {
   "attachments": {},
   "cell_type": "markdown",
   "id": "b192ceb7",
   "metadata": {},
   "source": [
    "### 4.1.2. Types of Graphs <a name=\"TypesofGraphs\"></a>\n",
    "This is the paragraph about types of graphs."
   ]
  },
  {
   "attachments": {},
   "cell_type": "markdown",
   "id": "3c348d47",
   "metadata": {},
   "source": [
    "## 4.2. Graph Applications in Real Life <a name=\"GraphApplicationsinRealLife\"></a>\n",
    "This is the paragraph about graph applications in real life."
   ]
  },
  {
   "attachments": {},
   "cell_type": "markdown",
   "id": "51a08807",
   "metadata": {},
   "source": [
    "### 4.2.1. Social Networks <a name=\"SocialNetworks\"></a>\n",
    "This is the paragraph about social networks."
   ]
  },
  {
   "attachments": {},
   "cell_type": "markdown",
   "id": "c48c4a46",
   "metadata": {},
   "source": [
    "### 4.2.2. Navigation Systems <a name=\"NavigationSystems\"></a>\n",
    "This is the paragraph about navigation systems."
   ]
  },
  {
   "attachments": {},
   "cell_type": "markdown",
   "id": "53d6f90a",
   "metadata": {},
   "source": [
    "## 4.3. Search Algorithms on Graph Data Structure <a name=\"SearchAlgorithmsonGraphDataStructure\"></a>\n",
    "This is the paragraph about search algorithms on graph data structure.\n"
   ]
  },
  {
   "attachments": {},
   "cell_type": "markdown",
   "id": "91e8d3c0",
   "metadata": {},
   "source": [
    "### 4.3.1. Breadth-first Search (BFS) <a name=\"BreadthfirstSearch\"></a>\n",
    "This is the paragraph about breadth-first search (BFS)."
   ]
  },
  {
   "attachments": {},
   "cell_type": "markdown",
   "id": "2609ed8b",
   "metadata": {},
   "source": [
    "### 4.3.2. Depth-first Search (DFS) <a name=\"DepthfirstSearch\"></a>\n",
    "This is the paragraph about depth-first search (DFS)."
   ]
  },
  {
   "attachments": {},
   "cell_type": "markdown",
   "id": "f871012f",
   "metadata": {},
   "source": [
    "### 4.3.3. Dijkstra's Algorithm <a name=\"DijkstrasAlgorithm\"></a>\n",
    "This is the paragraph about Dijkstra's algorithm."
   ]
  },
  {
   "attachments": {},
   "cell_type": "markdown",
   "id": "86a93fcb",
   "metadata": {},
   "source": [
    "### 4.3.4. A* Algorithm <a name=\"AStarAlgorithm\"></a>\n",
    "This is the paragraph about A* algorithm."
   ]
  },
  {
   "attachments": {},
   "cell_type": "markdown",
   "id": "1f77ae82",
   "metadata": {},
   "source": [
    "# 5. Sources <a name=\"Sources\"></a>\n",
    "This is the paragraph about sources."
   ]
  }
 ],
 "metadata": {
  "kernelspec": {
   "display_name": "Python 3 (ipykernel)",
   "language": "python",
   "name": "python3"
  },
  "language_info": {
   "codemirror_mode": {
    "name": "ipython",
    "version": 3
   },
   "file_extension": ".py",
   "mimetype": "text/x-python",
   "name": "python",
   "nbconvert_exporter": "python",
   "pygments_lexer": "ipython3",
   "version": "3.10.7"
  },
  "toc-autonumbering": false,
  "toc-showmarkdowntxt": true
 },
 "nbformat": 4,
 "nbformat_minor": 5
}
